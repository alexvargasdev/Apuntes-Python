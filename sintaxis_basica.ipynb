{
 "cells": [
  {
   "cell_type": "markdown",
   "metadata": {},
   "source": [
    "# Sintaxis Básica \n",
    "## Tipos: Númericos, textos, Boleanos\n",
    " Númericos: enteros (int), coma flotante (float), complejos. \n",
    " \n",
    " Textos.\n",
    "\n",
    " Boleanos: True, False.\n",
    "\n",
    "\n",
    "## Operadores \n",
    "Aritmeticos: suma (+), resta (-), multiplicacion (*), division (/), modulo (%), exponente (**), division entera (//).\n",
    "\n",
    "Comparacion: igual que (==), diferente que (!=),\n",
    "mayor que (>), menor que (<>), mayor igual que (>=), menor igual que (<=).\n",
    "\n",
    "Logicos: AND, OR, NOT.\n",
    "\n",
    "Asignacion: igual (=), incremento (+=), decremento (-=), *=, /=, %=, **=, //=.\n",
    "\n",
    "Especiales: IS, IS NOT, IN, NOT IN. \n",
    "\n",
    "# Variable\n",
    "Espacio en memoria del ordendor donde se almacenará un valor que podrá cambiar durante la ejecución del programa.\n",
    "\n",
    "\n"
   ]
  },
  {
   "cell_type": "code",
   "execution_count": 8,
   "metadata": {},
   "outputs": [
    {
     "data": {
      "text/plain": [
       "11"
      ]
     },
     "execution_count": 8,
     "metadata": {},
     "output_type": "execute_result"
    }
   ],
   "source": [
    "5+6\n"
   ]
  },
  {
   "cell_type": "code",
   "execution_count": 12,
   "metadata": {},
   "outputs": [
    {
     "data": {
      "text/plain": [
       "0"
      ]
     },
     "execution_count": 12,
     "metadata": {},
     "output_type": "execute_result"
    }
   ],
   "source": [
    "10%2\n"
   ]
  },
  {
   "cell_type": "code",
   "execution_count": 13,
   "metadata": {},
   "outputs": [
    {
     "data": {
      "text/plain": [
       "625"
      ]
     },
     "execution_count": 13,
     "metadata": {},
     "output_type": "execute_result"
    }
   ],
   "source": [
    "5**4\n"
   ]
  },
  {
   "cell_type": "code",
   "execution_count": 1,
   "metadata": {},
   "outputs": [
    {
     "data": {
      "text/plain": [
       "1"
      ]
     },
     "execution_count": 1,
     "metadata": {},
     "output_type": "execute_result"
    }
   ],
   "source": [
    "4//3\n"
   ]
  },
  {
   "cell_type": "code",
   "execution_count": 2,
   "metadata": {},
   "outputs": [
    {
     "data": {
      "text/plain": [
       "1.75"
      ]
     },
     "execution_count": 2,
     "metadata": {},
     "output_type": "execute_result"
    }
   ],
   "source": [
    "7/4"
   ]
  },
  {
   "attachments": {},
   "cell_type": "markdown",
   "metadata": {},
   "source": [
    "### Variable \n",
    "Nombre, nombre, nombre3, mi_nombre, noombre_clave_persona.  \n",
    "\n",
    "Python es un lenguaje 100% orientado a objetos.\n",
    "\n",
    "# Funciones\n",
    "- Conjunto de lineas de codigo agrupados (bloque de código) que funcionan como unidad realizando una tarea especifica.\n",
    "\n",
    "- las funciones en python pueden devolver valores.\n",
    "\n",
    "- las funciones en python pueden tener párametros/argumentos.\n",
    "\n",
    "- A las funciones se les denomina \"metodos\" cuando se encuentran defenidas dentro de una clase.\n",
    "### Utilidad de una funcion\n",
    "- Reutilización de código (cuando sea necesario o si es necesario)\n",
    "\n",
    "### Sintaxis de una función\n",
    "- def nombre_funcion ():\n",
    "    - intrucciones de la función.\n",
    "    - return (opcional)\n",
    "- def nombre_funcion (parámetros)\n",
    "    - intrucciones de la función\n",
    "    - return (opcional)\n",
    "\n",
    "### Ejecución de una función\n",
    "- nombre_funcion()\n",
    "- nombre_funcion(parámetros)\n",
    "\n",
    "#### Nota \n",
    "- funciones predifinidas: son las que vienen con el programa\n",
    "- funciones propias: son las que creas segun tu nesecidad\n",
    "\n",
    "# Listas en python\n",
    "- Estructura de datos que nos permiten almacenar gran cantidad de valores (equivalentes a  los array en otros lenguajes de programación)\n",
    "- En python las listas se pueden guardar diferennte tipos de valores (en otros lengujes no ocurre esto con los array)\n",
    "- Se pueden expandir dinámicamente añadiendo nuevos elementos (ota novedad respecto alos arrays en otros lenguajes)\n",
    "\n",
    "### Sintaxis de las listas en python \n",
    "- nombreLista = [elem1, elem2, elem3]\n",
    "- Su índice se empieza a contar de izquierda a derecha y desde la posición cero a infinito.\n",
    "\n",
    "\n",
    "# Las tuplas en python\n",
    "- las tuplas son listas inmutables, es decir, no se pueden midificaer despues de su creación.\n",
    "- No permiten añadir, elimiunar, mover elementos etc. (no apend, extend, romeve)\n",
    "- si permiten busquedas (no index)\n",
    "- si permiten comprobar si un elmemento se encuentra en la tupla.\n",
    "## ¿qué utilidad o ventaja tinen respecto a las listas?\n",
    "- mas rapidas\n",
    "- menos espoacio(mayor optimización)\n",
    "- formatean Strings\n",
    "- pueden utilixarse como cleves en un diccionario.(listas no)\n",
    "### Sintaxis de las  tuplas\n",
    "nombretupla=(elment1, element2, element3....)\n"
   ]
  },
  {
   "cell_type": "code",
   "execution_count": null,
   "metadata": {},
   "outputs": [],
   "source": [
    "def nombre_funcion ():\n",
    "    intrucciones de la función.\n",
    "    return (opcional)\n",
    "\n",
    "def nombre_funcion (parámetros)\n",
    "    intrucciones de la función\n",
    "    return (opcional)\n"
   ]
  },
  {
   "attachments": {},
   "cell_type": "markdown",
   "metadata": {},
   "source": [
    "## Los diccionarios\n",
    "### ¿Qué son los diccionarios?\n",
    "- Estructura de datos que nos permite almacanr valorea de diferente tipo(enteros, cadenas de textos, decimales) e incluso listas y otros diccionarios.\n",
    "- La principal caracteristica de los diccionarios es que los datos se almacenan asociados a una clave de tal forma que  se crea una asociacion de tipo clave:valor para cada elemento almacendo.\n",
    "- los elementos almacnados no estan ordenados. El orden es indiferente a la hora de almacenar información en un diccionario."
   ]
  },
  {
   "cell_type": "code",
   "execution_count": null,
   "metadata": {},
   "outputs": [],
   "source": [
    "nombreLista = [elem1, elem2, elem3]"
   ]
  },
  {
   "cell_type": "code",
   "execution_count": null,
   "metadata": {},
   "outputs": [],
   "source": [
    "Nombretupla = (elment1, element2, element3)"
   ]
  },
  {
   "cell_type": "code",
   "execution_count": null,
   "metadata": {},
   "outputs": [],
   "source": [
    "#lista\n",
    "mi_lista = [\"María\", \"Pepe\", \"Marta\", \"Antonio\"]\n",
    "\n",
    "#imprimir la lista \n",
    "print(mi_lista[:])\n",
    "\n",
    "#imprimir un elemento en concreto\n",
    "print(mi_lista[2])\n",
    "\n",
    "#imprimir dentro de un rango \n",
    "print(mi_lista[0:2])\n",
    "print(mi_lista[:2])\n",
    "print(mi_lista[2:])\n",
    "\n",
    "#para agregar un elemento a la lista \n",
    "mi_lista.append(\"José\")\n",
    "\n",
    "#para agregar un elemento en cierta posición\n",
    "mi_lista.insert(2,\"Alex\")\n",
    "\n",
    "#para agregar varios elementos a la lista \n",
    "mi_lista.extend([\"Gabriela\",\"Mariela\"])\n",
    "\n",
    "#para el índice de un elemento en una lista \n",
    "print(mi_lista.index(\"Alex\"))\n",
    "\n",
    "#para comprobar si un elemento se encuentra en la lista \n",
    "print(\"José\" in mi_lista)\n",
    "\n",
    "#para eliminar un elemento en una lista \n",
    "mi_lista.remove(\"José\")\n",
    "\n",
    "#para eliminar un  ultimo elemento\n",
    "mi_lista.pop()\n",
    "\n",
    "#para concatenar dos  listas \n",
    "mi_lista2=[\"Sonia\",\"Pepe\"]\n",
    "mi_lista3= mi_lista + mi_lista2\n",
    "\n",
    "#para repetir un cierto número de veces una lista\n",
    "mi_lista = [\"María\", \"Pepe\", \"Marta\", \"Antonio\"]*3\n"
   ]
  },
  {
   "cell_type": "code",
   "execution_count": null,
   "metadata": {},
   "outputs": [],
   "source": [
    "Nombre, nombre, nombre3, mi_nombre, noombre_clave_persona  "
   ]
  },
  {
   "cell_type": "code",
   "execution_count": null,
   "metadata": {},
   "outputs": [],
   "source": [
    "mitupla = (\"juan\",13,1,1995)\n",
    "#tupla a lista\n",
    "lista = list(mitupla)\n",
    "\n",
    "#lista a tupla\n",
    "milista=[\"alex\",89,67]\n",
    "mitupla1=tuple(milista)\n",
    "\n",
    "#para buscar un elemento en la tupla \"in\"\n",
    "print(\"alex\" in mitupla1)\n",
    "\n",
    "#numero de veces que se encuentra un elemento en una tupla \"count\"\n",
    "print(mitupla.count(13))\n",
    "\n",
    "#longitud de una tupla \"len\"\n",
    "print(len(mitupla))\n",
    "\n",
    "#tupla unitaria \n",
    "mitupla2 =(\"pedro\",)\n",
    "\n",
    "#tupla sin parentesis (empaquetado de tuplas)\n",
    "mitupla3 = \"juan\",13,1,2015\n",
    "\n",
    "#desenpaquetando de tuplas \n",
    "nombre, dia, mes, año = mitupla3\n"
   ]
  },
  {
   "attachments": {},
   "cell_type": "markdown",
   "metadata": {},
   "source": [
    "# Estructura de control de flujo \n",
    "## Condicionales \n",
    "#### Instrucción If\n",
    "Al momento de trabajar las condicionales \"if\" se una los operadores de comparación\n",
    "\n",
    "\n",
    "> mayor que,\n",
    "\n",
    "\n",
    "< menor que, \n",
    "\n",
    "\n",
    "==  igual que,\n",
    "\n",
    "\n",
    ">= mayor igual que,\n",
    "\n",
    "\n",
    "<= menor igual que. \n",
    "\n",
    "\n",
    "Concatenación de operadores de comparación\n",
    "\n",
    "\n",
    "Operadores lógicos and y or.\n",
    "\n",
    "\n",
    "Operador \"in\"\n",
    "\n",
    "\n",
    "\n",
    "\n",
    " \n",
    "\n"
   ]
  },
  {
   "cell_type": "markdown",
   "metadata": {},
   "source": [
    "## Bucles \n",
    "Es repetir una o varias lineas de codigo\n",
    "### Tipos de bucles\n",
    "### Determinado\n",
    "Se ejecutan un numero determinado de veces, se sabe cuantas veces se ejecuta el código.\n",
    "### Ideterminado \n",
    "Se ejecuta un numero indeterminado de veces, no se sabe cuantas veces se ejecuta el codigo.\n",
    "#### Bucle for\n",
    "Es un bucle determinado \n",
    "##### Sintaxis\n",
    "for variable in elemento a recorrer:  \n",
    "  Cuerpo del bucle \n",
    "#### Bucle While\n",
    "Es un bucle indeterminado\n",
    "##### Sintaxis \n",
    "While condición:  \n",
    "cuerpo del bucle\n",
    "\n",
    "Interacciones Continue, pass y else.\n",
    "\n",
    "## Generadores \n",
    "- Son esructuras que extraen valores de una funión y se almacenan en objetos iterable (que se pueden recorrer).\n",
    "- Estos valores se almacenan de uno en uno.\n",
    "- Cada vez que un genarador almacena un valor, esta permanece en un estado pausado hasta que se solicita el siguiente. Esta característica es conocida como \"suspención de estado\".\n",
    "### Funcionamiento\n",
    "- Función tradicional\n",
    "\n",
    "def generaNumeros():\n",
    "\n",
    "return numeros\n",
    "\n",
    "(2 4 6 8 10)\n",
    "- generador\n",
    "\n",
    "def generarNumeros():\n",
    "\n",
    "yield numeros \n",
    "\n",
    "(2 4 6 8 10) Objeto generador iterable\n",
    "\n",
    "### ¿Que utilidad tienen?\n",
    "- Son más eficiente que las funcione tradicionales.\n",
    "- Muy útiles con las listas de valores infinitos.\n",
    "- Bajo determinados escenarios, será muy útil que un genrador devuelva los valores de uno en uno.\n",
    "### Sintaxis \n",
    "Def generarNumeros():\n",
    "\n",
    "yield numeros\n",
    "\n"
   ]
  }
 ],
 "metadata": {
  "kernelspec": {
   "display_name": "Python 3.10.7 64-bit",
   "language": "python",
   "name": "python3"
  },
  "language_info": {
   "codemirror_mode": {
    "name": "ipython",
    "version": 3
   },
   "file_extension": ".py",
   "mimetype": "text/x-python",
   "name": "python",
   "nbconvert_exporter": "python",
   "pygments_lexer": "ipython3",
   "version": "3.10.7 (tags/v3.10.7:6cc6b13, Sep  5 2022, 14:08:36) [MSC v.1933 64 bit (AMD64)]"
  },
  "orig_nbformat": 4,
  "vscode": {
   "interpreter": {
    "hash": "959e57dc0a37e639553a4bdb350896ed4d4f15ec6ead1eb0fd82df70d0f6f87c"
   }
  }
 },
 "nbformat": 4,
 "nbformat_minor": 2
}
